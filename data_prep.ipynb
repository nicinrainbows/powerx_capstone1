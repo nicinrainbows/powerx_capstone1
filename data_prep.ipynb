{
 "cells": [
  {
   "cell_type": "code",
   "execution_count": 1,
   "id": "babad0dc-af62-4b95-8c93-49e5646daf3f",
   "metadata": {},
   "outputs": [],
   "source": [
    "import pandas as pd\n",
    "import numpy as np\n",
    "import os"
   ]
  },
  {
   "cell_type": "code",
   "execution_count": 2,
   "id": "9933c7e5-5a39-4ef9-a1bf-79e7563169a2",
   "metadata": {},
   "outputs": [],
   "source": [
    "# change working directory\n",
    "os.chdir(os.getcwd())"
   ]
  },
  {
   "cell_type": "code",
   "execution_count": 3,
   "id": "8046d543-a584-4aad-a012-54f0dc7e5191",
   "metadata": {},
   "outputs": [],
   "source": [
    "# set up the dictionary: key = df variable name / value = actual file name\n",
    "df_dict = {\n",
    "    'unemployment_rate': 'UNRATE.csv',\n",
    "    'gdp': 'GDP.csv',\n",
    "    'int_rate': 'FEDFUNDS.csv',\n",
    "    'cpi': 'CPALTT01USM657N.csv',\n",
    "    'fed_asset': 'D2WATAL.csv'\n",
    "}\n",
    "\n",
    "for df_name, csv_name in df_dict.items():\n",
    "    # set up df\n",
    "    df_name = pd.read_csv('./data/' + csv_name)\n",
    "    # convert the date columns from datatype = object, to datatype = datetime\n",
    "    df_name['DATE'] = pd.to_datetime(df_name['DATE'])\n",
    "    #print(df_name.dtypes)\n",
    "    #print(df_name.head)\n",
    "    #print('='*40)"
   ]
  },
  {
   "cell_type": "code",
   "execution_count": null,
   "id": "c2d92da5-cce2-4fc1-b7bf-994b346a9dd8",
   "metadata": {},
   "outputs": [],
   "source": []
  }
 ],
 "metadata": {
  "kernelspec": {
   "display_name": "Python 3 (ipykernel)",
   "language": "python",
   "name": "python3"
  },
  "language_info": {
   "codemirror_mode": {
    "name": "ipython",
    "version": 3
   },
   "file_extension": ".py",
   "mimetype": "text/x-python",
   "name": "python",
   "nbconvert_exporter": "python",
   "pygments_lexer": "ipython3",
   "version": "3.7.9"
  }
 },
 "nbformat": 4,
 "nbformat_minor": 5
}
